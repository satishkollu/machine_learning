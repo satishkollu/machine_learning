{
 "cells": [
  {
   "cell_type": "code",
   "execution_count": 1,
   "metadata": {},
   "outputs": [],
   "source": [
    "import pandas\n",
    "from pandas.plotting import scatter_matrix\n",
    "import matplotlib.pyplot as plt\n",
    "from sklearn import model_selection\n",
    "from sklearn.metrics import classification_report\n",
    "from sklearn.metrics import confusion_matrix\n",
    "from sklearn.metrics import accuracy_score\n",
    "from sklearn.neighbors import KNeighborsClassifier"
   ]
  },
  {
   "cell_type": "code",
   "execution_count": 2,
   "metadata": {},
   "outputs": [],
   "source": [
    "dataset=pandas.read_csv('iris.csv')"
   ]
  },
  {
   "cell_type": "code",
   "execution_count": 3,
   "metadata": {},
   "outputs": [
    {
     "name": "stdout",
     "output_type": "stream",
     "text": [
      "    5.1  3.5  1.4  0.2      Iris-setosa\n",
      "0   6.3  3.3  6.0  2.5   Iris-virginica\n",
      "1   5.0  3.0  1.6  0.2      Iris-setosa\n",
      "2   6.2  2.8  4.8  1.8   Iris-virginica\n",
      "3   6.4  3.1  5.5  1.8   Iris-virginica\n",
      "4   4.9  2.5  4.5  1.7   Iris-virginica\n",
      "5   5.4  3.9  1.3  0.4      Iris-setosa\n",
      "6   5.7  3.8  1.7  0.3      Iris-setosa\n",
      "7   4.4  2.9  1.4  0.2      Iris-setosa\n",
      "8   6.0  2.2  5.0  1.5   Iris-virginica\n",
      "9   5.0  3.4  1.5  0.2      Iris-setosa\n",
      "10  5.6  2.9  3.6  1.3  Iris-versicolor\n",
      "11  6.8  3.0  5.5  2.1   Iris-virginica\n",
      "12  5.2  4.1  1.5  0.1      Iris-setosa\n",
      "13  5.4  3.9  1.7  0.4      Iris-setosa\n",
      "14  5.2  3.4  1.4  0.2      Iris-setosa\n",
      "15  5.0  3.5  1.6  0.6      Iris-setosa\n",
      "16  6.6  3.0  4.4  1.4  Iris-versicolor\n",
      "17  6.7  2.5  5.8  1.8   Iris-virginica\n",
      "18  6.3  2.5  5.0  1.9   Iris-virginica\n",
      "19  6.4  2.7  5.3  1.9   Iris-virginica\n"
     ]
    }
   ],
   "source": [
    "print(dataset.head(20))"
   ]
  },
  {
   "cell_type": "code",
   "execution_count": 4,
   "metadata": {},
   "outputs": [],
   "source": [
    "array=dataset.values\n",
    "x=array[:,0:4]\n",
    "y=array[:,4]\n",
    "validation_size=0.20\n",
    "seed=7\n",
    "x_train,x_validation,y_train,y_validation=model_selection.train_test_split(x,y,test_size=validation_size,random_state=seed)\n"
   ]
  },
  {
   "cell_type": "code",
   "execution_count": 5,
   "metadata": {},
   "outputs": [],
   "source": [
    "scoring='accuracy'"
   ]
  },
  {
   "cell_type": "code",
   "execution_count": 6,
   "metadata": {},
   "outputs": [
    {
     "name": "stdout",
     "output_type": "stream",
     "text": [
      "0.9259259259259259\n",
      "[[ 7  0  0]\n",
      " [ 0 10  2]\n",
      " [ 0  0  8]]\n",
      "                 precision    recall  f1-score   support\n",
      "\n",
      "    Iris-setosa       1.00      1.00      1.00         7\n",
      "Iris-versicolor       1.00      0.83      0.91        12\n",
      " Iris-virginica       0.80      1.00      0.89         8\n",
      "\n",
      "       accuracy                           0.93        27\n",
      "      macro avg       0.93      0.94      0.93        27\n",
      "   weighted avg       0.94      0.93      0.93        27\n",
      "\n"
     ]
    }
   ],
   "source": [
    "knn=KNeighborsClassifier()\n",
    "knn.fit(x_train,y_train)\n",
    "predictions=knn.predict(x_validation)\n",
    "print(accuracy_score(y_validation,predictions))\n",
    "print(confusion_matrix(y_validation,predictions))\n",
    "print(classification_report(y_validation,predictions))"
   ]
  },
  {
   "cell_type": "code",
   "execution_count": null,
   "metadata": {},
   "outputs": [],
   "source": []
  }
 ],
 "metadata": {
  "kernelspec": {
   "display_name": "Python 3",
   "language": "python",
   "name": "python3"
  },
  "language_info": {
   "codemirror_mode": {
    "name": "ipython",
    "version": 3
   },
   "file_extension": ".py",
   "mimetype": "text/x-python",
   "name": "python",
   "nbconvert_exporter": "python",
   "pygments_lexer": "ipython3",
   "version": "3.7.6"
  }
 },
 "nbformat": 4,
 "nbformat_minor": 2
}
